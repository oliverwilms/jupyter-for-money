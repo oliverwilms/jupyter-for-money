{
 "cells": [
  {
   "cell_type": "code",
   "execution_count": 2,
   "id": "79dec6ad-0892-4b43-9eb5-993c94027623",
   "metadata": {},
   "outputs": [],
   "source": [
    "%matplotlib inline\n",
    "\n",
    "import pandas as pd\n",
    "import matplotlib.pyplot as plt\n",
    "import seaborn as sns \n",
    "\n",
    "sns.set(style=\"darkgrid\")"
   ]
  },
  {
   "cell_type": "code",
   "execution_count": 3,
   "id": "65acf50d-882e-4373-b5b6-398e2dfa41bb",
   "metadata": {},
   "outputs": [],
   "source": [
    "df = pd.read_csv('money.csv')"
   ]
  },
  {
   "cell_type": "code",
   "execution_count": 4,
   "id": "e547180b-55c5-4345-ad5b-41fd23e22435",
   "metadata": {},
   "outputs": [
    {
     "data": {
      "text/html": [
       "<div>\n",
       "<style scoped>\n",
       "    .dataframe tbody tr th:only-of-type {\n",
       "        vertical-align: middle;\n",
       "    }\n",
       "\n",
       "    .dataframe tbody tr th {\n",
       "        vertical-align: top;\n",
       "    }\n",
       "\n",
       "    .dataframe thead th {\n",
       "        text-align: right;\n",
       "    }\n",
       "</style>\n",
       "<table border=\"1\" class=\"dataframe\">\n",
       "  <thead>\n",
       "    <tr style=\"text-align: right;\">\n",
       "      <th></th>\n",
       "      <th>ID</th>\n",
       "      <th>Account</th>\n",
       "      <th>Category</th>\n",
       "      <th>CheckNumber</th>\n",
       "      <th>Credit</th>\n",
       "      <th>Debit</th>\n",
       "      <th>Memo</th>\n",
       "      <th>Merchant</th>\n",
       "      <th>Status</th>\n",
       "      <th>SubCategory</th>\n",
       "      <th>TranDate</th>\n",
       "      <th>zTranDate</th>\n",
       "    </tr>\n",
       "  </thead>\n",
       "  <tbody>\n",
       "    <tr>\n",
       "      <th>0</th>\n",
       "      <td>1</td>\n",
       "      <td>Checking</td>\n",
       "      <td>Business Expense</td>\n",
       "      <td>101.0</td>\n",
       "      <td>NaN</td>\n",
       "      <td>250.00</td>\n",
       "      <td>December</td>\n",
       "      <td>Landlord</td>\n",
       "      <td>NaN</td>\n",
       "      <td>Rent</td>\n",
       "      <td>27-Nov</td>\n",
       "      <td>0</td>\n",
       "    </tr>\n",
       "    <tr>\n",
       "      <th>1</th>\n",
       "      <td>2</td>\n",
       "      <td>Checking</td>\n",
       "      <td>Groceries</td>\n",
       "      <td>NaN</td>\n",
       "      <td>NaN</td>\n",
       "      <td>54.35</td>\n",
       "      <td>16</td>\n",
       "      <td>Aldi</td>\n",
       "      <td>NaN</td>\n",
       "      <td>NaN</td>\n",
       "      <td>27-Nov</td>\n",
       "      <td>0</td>\n",
       "    </tr>\n",
       "  </tbody>\n",
       "</table>\n",
       "</div>"
      ],
      "text/plain": [
       "   ID   Account          Category  CheckNumber  Credit   Debit      Memo  \\\n",
       "0   1  Checking  Business Expense        101.0     NaN  250.00  December   \n",
       "1   2  Checking         Groceries          NaN     NaN   54.35        16   \n",
       "\n",
       "   Merchant  Status SubCategory TranDate  zTranDate  \n",
       "0  Landlord     NaN        Rent   27-Nov          0  \n",
       "1      Aldi     NaN         NaN   27-Nov          0  "
      ]
     },
     "execution_count": 4,
     "metadata": {},
     "output_type": "execute_result"
    }
   ],
   "source": [
    "df.head()"
   ]
  }
 ],
 "metadata": {
  "kernelspec": {
   "display_name": "Python 3 (ipykernel)",
   "language": "python",
   "name": "python3"
  },
  "language_info": {
   "codemirror_mode": {
    "name": "ipython",
    "version": 3
   },
   "file_extension": ".py",
   "mimetype": "text/x-python",
   "name": "python",
   "nbconvert_exporter": "python",
   "pygments_lexer": "ipython3",
   "version": "3.11.6"
  }
 },
 "nbformat": 4,
 "nbformat_minor": 5
}
